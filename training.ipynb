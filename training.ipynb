{
 "cells": [
  {
   "attachments": {},
   "cell_type": "markdown",
   "metadata": {},
   "source": [
    "## Deeplearning Classifier"
   ]
  },
  {
   "cell_type": "code",
   "execution_count": 33,
   "metadata": {},
   "outputs": [],
   "source": [
    "# Import necessary libraries\n",
    "import pandas as pd\n",
    "import tensorflow as tf\n",
    "from tensorflow.keras.preprocessing.text import Tokenizer\n",
    "from tensorflow.keras.preprocessing.sequence import pad_sequences\n",
    "from sklearn.model_selection import train_test_split\n",
    "from sklearn.preprocessing import LabelEncoder\n",
    "from sklearn.metrics import classification_report\n",
    "import numpy as np"
   ]
  },
  {
   "cell_type": "code",
   "execution_count": 12,
   "metadata": {},
   "outputs": [
    {
     "data": {
      "text/html": [
       "<div>\n",
       "<style scoped>\n",
       "    .dataframe tbody tr th:only-of-type {\n",
       "        vertical-align: middle;\n",
       "    }\n",
       "\n",
       "    .dataframe tbody tr th {\n",
       "        vertical-align: top;\n",
       "    }\n",
       "\n",
       "    .dataframe thead th {\n",
       "        text-align: right;\n",
       "    }\n",
       "</style>\n",
       "<table border=\"1\" class=\"dataframe\">\n",
       "  <thead>\n",
       "    <tr style=\"text-align: right;\">\n",
       "      <th></th>\n",
       "      <th>Unnamed: 0</th>\n",
       "      <th>label</th>\n",
       "      <th>text</th>\n",
       "    </tr>\n",
       "  </thead>\n",
       "  <tbody>\n",
       "    <tr>\n",
       "      <th>0</th>\n",
       "      <td>0</td>\n",
       "      <td>Psoriasis</td>\n",
       "      <td>I have been experiencing a skin rash on my arm...</td>\n",
       "    </tr>\n",
       "    <tr>\n",
       "      <th>1</th>\n",
       "      <td>1</td>\n",
       "      <td>Psoriasis</td>\n",
       "      <td>My skin has been peeling, especially on my kne...</td>\n",
       "    </tr>\n",
       "    <tr>\n",
       "      <th>2</th>\n",
       "      <td>2</td>\n",
       "      <td>Psoriasis</td>\n",
       "      <td>I have been experiencing joint pain in my fing...</td>\n",
       "    </tr>\n",
       "    <tr>\n",
       "      <th>3</th>\n",
       "      <td>3</td>\n",
       "      <td>Psoriasis</td>\n",
       "      <td>There is a silver like dusting on my skin, esp...</td>\n",
       "    </tr>\n",
       "    <tr>\n",
       "      <th>4</th>\n",
       "      <td>4</td>\n",
       "      <td>Psoriasis</td>\n",
       "      <td>My nails have small dents or pits in them, and...</td>\n",
       "    </tr>\n",
       "  </tbody>\n",
       "</table>\n",
       "</div>"
      ],
      "text/plain": [
       "   Unnamed: 0      label                                               text\n",
       "0           0  Psoriasis  I have been experiencing a skin rash on my arm...\n",
       "1           1  Psoriasis  My skin has been peeling, especially on my kne...\n",
       "2           2  Psoriasis  I have been experiencing joint pain in my fing...\n",
       "3           3  Psoriasis  There is a silver like dusting on my skin, esp...\n",
       "4           4  Psoriasis  My nails have small dents or pits in them, and..."
      ]
     },
     "execution_count": 12,
     "metadata": {},
     "output_type": "execute_result"
    }
   ],
   "source": [
    "# Load the dataset\n",
    "df = pd.read_csv('Symptom2Disease.csv')\n",
    "df.head()"
   ]
  },
  {
   "cell_type": "code",
   "execution_count": 14,
   "metadata": {},
   "outputs": [
    {
     "name": "stdout",
     "output_type": "stream",
     "text": [
      "The number of categories of diseases are: 24\n"
     ]
    }
   ],
   "source": [
    "num_categories = df['label'].nunique()\n",
    "print(\"The number of categories of diseases are:\", num_categories)"
   ]
  },
  {
   "cell_type": "code",
   "execution_count": 15,
   "metadata": {},
   "outputs": [],
   "source": [
    "# Split the dataset into input (text) and output (label) columns\n",
    "text_data = df['text'].values\n",
    "labels = df['label'].values\n",
    "\n",
    "# Encode the labels\n",
    "label_encoder = LabelEncoder()\n",
    "labels = label_encoder.fit_transform(labels)"
   ]
  },
  {
   "cell_type": "code",
   "execution_count": 16,
   "metadata": {},
   "outputs": [
    {
     "name": "stdout",
     "output_type": "stream",
     "text": [
      "Epoch 1/50\n",
      "30/30 [==============================] - 3s 31ms/step - loss: 4.2161 - accuracy: 0.0396\n",
      "Epoch 2/50\n",
      "30/30 [==============================] - 1s 32ms/step - loss: 3.7872 - accuracy: 0.0542\n",
      "Epoch 3/50\n",
      "30/30 [==============================] - 1s 32ms/step - loss: 3.5297 - accuracy: 0.0531\n",
      "Epoch 4/50\n",
      "30/30 [==============================] - 1s 38ms/step - loss: 3.3720 - accuracy: 0.0385\n",
      "Epoch 5/50\n",
      "30/30 [==============================] - 1s 35ms/step - loss: 3.2695 - accuracy: 0.0458\n",
      "Epoch 6/50\n",
      "30/30 [==============================] - 1s 36ms/step - loss: 3.1727 - accuracy: 0.0750\n",
      "Epoch 7/50\n",
      "30/30 [==============================] - 1s 32ms/step - loss: 3.0719 - accuracy: 0.1031\n",
      "Epoch 8/50\n",
      "30/30 [==============================] - 1s 32ms/step - loss: 2.9231 - accuracy: 0.1292\n",
      "Epoch 9/50\n",
      "30/30 [==============================] - 1s 33ms/step - loss: 2.7338 - accuracy: 0.1677\n",
      "Epoch 10/50\n",
      "30/30 [==============================] - 1s 29ms/step - loss: 2.5421 - accuracy: 0.2083\n",
      "Epoch 11/50\n",
      "30/30 [==============================] - 1s 28ms/step - loss: 2.3721 - accuracy: 0.2531\n",
      "Epoch 12/50\n",
      "30/30 [==============================] - 1s 37ms/step - loss: 2.2206 - accuracy: 0.3073\n",
      "Epoch 13/50\n",
      "30/30 [==============================] - 1s 43ms/step - loss: 2.0977 - accuracy: 0.3208\n",
      "Epoch 14/50\n",
      "30/30 [==============================] - 1s 42ms/step - loss: 1.9575 - accuracy: 0.3646\n",
      "Epoch 15/50\n",
      "30/30 [==============================] - 1s 45ms/step - loss: 1.7712 - accuracy: 0.4260\n",
      "Epoch 16/50\n",
      "30/30 [==============================] - 1s 47ms/step - loss: 1.6979 - accuracy: 0.4313\n",
      "Epoch 17/50\n",
      "30/30 [==============================] - 1s 43ms/step - loss: 1.6039 - accuracy: 0.4771\n",
      "Epoch 18/50\n",
      "30/30 [==============================] - 1s 38ms/step - loss: 1.5151 - accuracy: 0.5104\n",
      "Epoch 19/50\n",
      "30/30 [==============================] - 1s 41ms/step - loss: 1.4026 - accuracy: 0.5323\n",
      "Epoch 20/50\n",
      "30/30 [==============================] - 1s 41ms/step - loss: 1.3445 - accuracy: 0.5531\n",
      "Epoch 21/50\n",
      "30/30 [==============================] - 1s 35ms/step - loss: 1.2510 - accuracy: 0.6167\n",
      "Epoch 22/50\n",
      "30/30 [==============================] - 1s 38ms/step - loss: 1.1593 - accuracy: 0.6333\n",
      "Epoch 23/50\n",
      "30/30 [==============================] - 1s 27ms/step - loss: 1.0600 - accuracy: 0.6740\n",
      "Epoch 24/50\n",
      "30/30 [==============================] - 1s 32ms/step - loss: 1.0545 - accuracy: 0.6698\n",
      "Epoch 25/50\n",
      "30/30 [==============================] - 1s 33ms/step - loss: 1.0176 - accuracy: 0.7104\n",
      "Epoch 26/50\n",
      "30/30 [==============================] - 1s 29ms/step - loss: 0.9419 - accuracy: 0.7281\n",
      "Epoch 27/50\n",
      "30/30 [==============================] - 1s 36ms/step - loss: 0.8674 - accuracy: 0.7583\n",
      "Epoch 28/50\n",
      "30/30 [==============================] - 1s 39ms/step - loss: 0.8351 - accuracy: 0.7615\n",
      "Epoch 29/50\n",
      "30/30 [==============================] - 1s 32ms/step - loss: 0.7745 - accuracy: 0.7896\n",
      "Epoch 30/50\n",
      "30/30 [==============================] - 1s 41ms/step - loss: 0.7333 - accuracy: 0.8125\n",
      "Epoch 31/50\n",
      "30/30 [==============================] - 1s 36ms/step - loss: 0.7506 - accuracy: 0.8010\n",
      "Epoch 32/50\n",
      "30/30 [==============================] - 1s 37ms/step - loss: 0.7268 - accuracy: 0.7792\n",
      "Epoch 33/50\n",
      "30/30 [==============================] - 1s 25ms/step - loss: 0.6905 - accuracy: 0.8292\n",
      "Epoch 34/50\n",
      "30/30 [==============================] - 1s 31ms/step - loss: 0.6286 - accuracy: 0.8427\n",
      "Epoch 35/50\n",
      "30/30 [==============================] - 1s 27ms/step - loss: 0.6269 - accuracy: 0.8354\n",
      "Epoch 36/50\n",
      "30/30 [==============================] - 1s 29ms/step - loss: 0.6613 - accuracy: 0.8292\n",
      "Epoch 37/50\n",
      "30/30 [==============================] - 1s 26ms/step - loss: 0.5779 - accuracy: 0.8542\n",
      "Epoch 38/50\n",
      "30/30 [==============================] - 1s 28ms/step - loss: 0.5955 - accuracy: 0.8562\n",
      "Epoch 39/50\n",
      "30/30 [==============================] - 1s 34ms/step - loss: 0.5566 - accuracy: 0.8677\n",
      "Epoch 40/50\n",
      "30/30 [==============================] - 1s 31ms/step - loss: 0.5201 - accuracy: 0.8802\n",
      "Epoch 41/50\n",
      "30/30 [==============================] - 1s 39ms/step - loss: 0.4854 - accuracy: 0.8927\n",
      "Epoch 42/50\n",
      "30/30 [==============================] - 1s 36ms/step - loss: 0.4804 - accuracy: 0.8896\n",
      "Epoch 43/50\n",
      "30/30 [==============================] - 1s 37ms/step - loss: 0.4966 - accuracy: 0.8854\n",
      "Epoch 44/50\n",
      "30/30 [==============================] - 1s 30ms/step - loss: 0.4479 - accuracy: 0.9052\n",
      "Epoch 45/50\n",
      "30/30 [==============================] - 1s 30ms/step - loss: 0.4678 - accuracy: 0.8927\n",
      "Epoch 46/50\n",
      "30/30 [==============================] - 1s 30ms/step - loss: 0.4368 - accuracy: 0.9021\n",
      "Epoch 47/50\n",
      "30/30 [==============================] - 1s 27ms/step - loss: 0.3893 - accuracy: 0.9094\n",
      "Epoch 48/50\n",
      "30/30 [==============================] - 1s 29ms/step - loss: 0.4208 - accuracy: 0.9156\n",
      "Epoch 49/50\n",
      "30/30 [==============================] - 1s 26ms/step - loss: 0.4109 - accuracy: 0.9104\n",
      "Epoch 50/50\n",
      "30/30 [==============================] - 1s 27ms/step - loss: 0.4354 - accuracy: 0.8948\n"
     ]
    },
    {
     "data": {
      "text/plain": [
       "<keras.callbacks.History at 0x2c93fd41310>"
      ]
     },
     "execution_count": 16,
     "metadata": {},
     "output_type": "execute_result"
    }
   ],
   "source": [
    "# Split the dataset into training and testing sets\n",
    "text_train, text_test, labels_train, labels_test = train_test_split(text_data, labels, test_size=0.2, random_state=42)\n",
    "\n",
    "# Create a tokenizer and fit it on the training text data\n",
    "tokenizer = Tokenizer()\n",
    "tokenizer.fit_on_texts(text_train)\n",
    "\n",
    "# Convert the text data to sequences of tokens\n",
    "sequences_train = tokenizer.texts_to_sequences(text_train)\n",
    "sequences_test = tokenizer.texts_to_sequences(text_test)\n",
    "\n",
    "# Pad the sequences to have the same length\n",
    "max_sequence_length = max(len(seq) for seq in sequences_train)\n",
    "sequences_train = pad_sequences(sequences_train, maxlen=max_sequence_length)\n",
    "sequences_test = pad_sequences(sequences_test, maxlen=max_sequence_length)\n",
    "\n",
    "# Determine the number of classes\n",
    "num_classes = len(label_encoder.classes_)\n",
    "\n",
    "model = tf.keras.Sequential([\n",
    "    tf.keras.layers.Embedding(input_dim=len(tokenizer.word_index) + 1, output_dim=100, input_length=max_sequence_length),\n",
    "    tf.keras.layers.Dropout(0.5),  # Add dropout layer\n",
    "    tf.keras.layers.Flatten(),\n",
    "    tf.keras.layers.Dropout(0.5),  # Add dropout layer\n",
    "    tf.keras.layers.Dense(128, activation='relu'),\n",
    "    tf.keras.layers.Dropout(0.5),  # Add dropout layer\n",
    "    tf.keras.layers.Dense(128, activation='relu', kernel_regularizer=tf.keras.regularizers.l2(0.01)),  # Add L2 regularization\n",
    "    tf.keras.layers.Dropout(0.5),  # Add dropout layer\n",
    "    tf.keras.layers.Dense(128, activation='relu'),\n",
    "    tf.keras.layers.Dropout(0.5),  # Add dropout layer\n",
    "    tf.keras.layers.Dense(num_classes, activation='softmax')\n",
    "])\n",
    "\n",
    "# Compile the model\n",
    "model.compile(loss='sparse_categorical_crossentropy', optimizer='adam', metrics=['accuracy'])\n",
    "\n",
    "early_stopping = tf.keras.callbacks.EarlyStopping(monitor='val_loss', patience=3)\n",
    "\n",
    "# Train the model\n",
    "model.fit(sequences_train, labels_train, epochs=50, batch_size=32)"
   ]
  },
  {
   "cell_type": "code",
   "execution_count": 36,
   "metadata": {},
   "outputs": [
    {
     "name": "stdout",
     "output_type": "stream",
     "text": [
      "8/8 [==============================] - 0s 7ms/step - loss: 0.5780 - accuracy: 0.8708\n",
      "Accuracy: 0.8708333373069763\n"
     ]
    }
   ],
   "source": [
    "_, accuracy = model.evaluate(sequences_test, labels_test)\n",
    "print(\"Accuracy:\", accuracy)"
   ]
  },
  {
   "cell_type": "code",
   "execution_count": 34,
   "metadata": {},
   "outputs": [
    {
     "name": "stdout",
     "output_type": "stream",
     "text": [
      "8/8 [==============================] - 0s 6ms/step\n",
      "                                 precision    recall  f1-score   support\n",
      "\n",
      "                           Acne       1.00      1.00      1.00         7\n",
      "                      Arthritis       1.00      1.00      1.00        10\n",
      "               Bronchial Asthma       1.00      1.00      1.00        11\n",
      "           Cervical spondylosis       1.00      1.00      1.00         7\n",
      "                    Chicken pox       0.55      0.50      0.52        12\n",
      "                    Common Cold       1.00      0.83      0.91        12\n",
      "                         Dengue       0.56      0.75      0.64        12\n",
      "          Dimorphic Hemorrhoids       1.00      1.00      1.00         7\n",
      "               Fungal infection       1.00      0.85      0.92        13\n",
      "                   Hypertension       1.00      1.00      1.00        10\n",
      "                       Impetigo       0.83      0.91      0.87        11\n",
      "                       Jaundice       1.00      1.00      1.00        11\n",
      "                        Malaria       1.00      1.00      1.00        11\n",
      "                       Migraine       1.00      1.00      1.00        10\n",
      "                      Pneumonia       1.00      1.00      1.00        11\n",
      "                      Psoriasis       1.00      0.83      0.91         6\n",
      "                        Typhoid       0.80      0.89      0.84         9\n",
      "                 Varicose Veins       0.92      0.92      0.92        12\n",
      "                        allergy       0.73      0.67      0.70        12\n",
      "                       diabetes       0.78      0.88      0.82         8\n",
      "                  drug reaction       0.75      0.60      0.67         5\n",
      "gastroesophageal reflux disease       0.77      0.91      0.83        11\n",
      "           peptic ulcer disease       0.67      0.73      0.70        11\n",
      "        urinary tract infection       0.89      0.73      0.80        11\n",
      "\n",
      "                       accuracy                           0.87       240\n",
      "                      macro avg       0.88      0.87      0.88       240\n",
      "                   weighted avg       0.88      0.87      0.87       240\n",
      "\n"
     ]
    }
   ],
   "source": [
    "# Predict on the test set\n",
    "predictions = model.predict(sequences_test)\n",
    "predicted_labels = np.argmax(predictions, axis=1)\n",
    "\n",
    "# Decode the predicted labels\n",
    "predicted_labels = label_encoder.inverse_transform(predicted_labels)\n",
    "\n",
    "# Generate the classification report\n",
    "report = classification_report(label_encoder.inverse_transform(labels_test), predicted_labels)\n",
    "print(report)\n"
   ]
  },
  {
   "cell_type": "code",
   "execution_count": 37,
   "metadata": {},
   "outputs": [],
   "source": [
    "# Create a function for prediction\n",
    "def predict_disease(text):\n",
    "    # Load the trained model\n",
    "    model = tf.keras.models.load_model('disease_model.h5')\n",
    "\n",
    "    # Preprocess the input text\n",
    "    sequence = tokenizer.texts_to_sequences([text])\n",
    "    sequence = pad_sequences(sequence, maxlen=max_sequence_length)\n",
    "\n",
    "    # Make the prediction\n",
    "    predicted_probs = model.predict(sequence)[0]\n",
    "    predicted_class = tf.argmax(predicted_probs).numpy()\n",
    "    predicted_label = label_encoder.inverse_transform([predicted_class])[0]\n",
    "    # Calculate the confidence score\n",
    "    predicted_prob = predicted_probs[predicted_class]\n",
    "\n",
    "    # Return the predicted class and confidence score\n",
    "    return predicted_label, predicted_prob"
   ]
  },
  {
   "cell_type": "code",
   "execution_count": 101,
   "metadata": {},
   "outputs": [
    {
     "name": "stdout",
     "output_type": "stream",
     "text": [
      "1/1 [==============================] - 0s 51ms/step\n",
      "('Psoriasis', 0.9839914)\n"
     ]
    }
   ],
   "source": [
    "# Test the predict_disease function\n",
    "input_text = \"My nails have small dents or pits in them, and they often feel inflammatory and tender to the touch. Even there are minor rashes on my arms.\"\n",
    "predicted_class = predict_disease(input_text)\n",
    "print(predicted_class)"
   ]
  },
  {
   "attachments": {},
   "cell_type": "markdown",
   "metadata": {},
   "source": [
    "## Random Forest Classifier"
   ]
  },
  {
   "cell_type": "code",
   "execution_count": 22,
   "metadata": {},
   "outputs": [],
   "source": [
    "import pandas as pd\n",
    "from sklearn.ensemble import RandomForestClassifier\n",
    "from sklearn.feature_extraction.text import CountVectorizer\n",
    "from sklearn.model_selection import train_test_split"
   ]
  },
  {
   "cell_type": "code",
   "execution_count": 23,
   "metadata": {},
   "outputs": [],
   "source": [
    "# Read the data from the CSV file\n",
    "data = pd.read_csv('Symptom2Disease.csv')"
   ]
  },
  {
   "cell_type": "code",
   "execution_count": 24,
   "metadata": {},
   "outputs": [
    {
     "data": {
      "text/html": [
       "<div>\n",
       "<style scoped>\n",
       "    .dataframe tbody tr th:only-of-type {\n",
       "        vertical-align: middle;\n",
       "    }\n",
       "\n",
       "    .dataframe tbody tr th {\n",
       "        vertical-align: top;\n",
       "    }\n",
       "\n",
       "    .dataframe thead th {\n",
       "        text-align: right;\n",
       "    }\n",
       "</style>\n",
       "<table border=\"1\" class=\"dataframe\">\n",
       "  <thead>\n",
       "    <tr style=\"text-align: right;\">\n",
       "      <th></th>\n",
       "      <th>Unnamed: 0</th>\n",
       "      <th>label</th>\n",
       "      <th>text</th>\n",
       "    </tr>\n",
       "  </thead>\n",
       "  <tbody>\n",
       "    <tr>\n",
       "      <th>0</th>\n",
       "      <td>0</td>\n",
       "      <td>Psoriasis</td>\n",
       "      <td>I have been experiencing a skin rash on my arm...</td>\n",
       "    </tr>\n",
       "    <tr>\n",
       "      <th>1</th>\n",
       "      <td>1</td>\n",
       "      <td>Psoriasis</td>\n",
       "      <td>My skin has been peeling, especially on my kne...</td>\n",
       "    </tr>\n",
       "    <tr>\n",
       "      <th>2</th>\n",
       "      <td>2</td>\n",
       "      <td>Psoriasis</td>\n",
       "      <td>I have been experiencing joint pain in my fing...</td>\n",
       "    </tr>\n",
       "    <tr>\n",
       "      <th>3</th>\n",
       "      <td>3</td>\n",
       "      <td>Psoriasis</td>\n",
       "      <td>There is a silver like dusting on my skin, esp...</td>\n",
       "    </tr>\n",
       "    <tr>\n",
       "      <th>4</th>\n",
       "      <td>4</td>\n",
       "      <td>Psoriasis</td>\n",
       "      <td>My nails have small dents or pits in them, and...</td>\n",
       "    </tr>\n",
       "  </tbody>\n",
       "</table>\n",
       "</div>"
      ],
      "text/plain": [
       "   Unnamed: 0      label                                               text\n",
       "0           0  Psoriasis  I have been experiencing a skin rash on my arm...\n",
       "1           1  Psoriasis  My skin has been peeling, especially on my kne...\n",
       "2           2  Psoriasis  I have been experiencing joint pain in my fing...\n",
       "3           3  Psoriasis  There is a silver like dusting on my skin, esp...\n",
       "4           4  Psoriasis  My nails have small dents or pits in them, and..."
      ]
     },
     "execution_count": 24,
     "metadata": {},
     "output_type": "execute_result"
    }
   ],
   "source": [
    "data.head()"
   ]
  },
  {
   "cell_type": "code",
   "execution_count": 28,
   "metadata": {},
   "outputs": [
    {
     "name": "stdout",
     "output_type": "stream",
     "text": [
      "Accuracy: 0.9708333333333333\n"
     ]
    }
   ],
   "source": [
    "\n",
    "# Extract symptom texts and disease names from the dataframe\n",
    "symptoms = data['text'].tolist()\n",
    "diseases = data['label'].tolist()\n",
    "\n",
    "# Convert symptom texts into numerical feature vectors using CountVectorizer\n",
    "vectorizer = CountVectorizer()\n",
    "X = vectorizer.fit_transform(symptoms)\n",
    "\n",
    "# Split the data into training and testing sets\n",
    "X_train, X_test, y_train, y_test = train_test_split(X, diseases, test_size=0.2, random_state=42)\n",
    "\n",
    "# Initialize a Random Forest classifier\n",
    "rf_classifier = RandomForestClassifier(n_estimators=100, random_state=42)\n",
    "\n",
    "# Train the classifier\n",
    "rf_classifier.fit(X_train, y_train)\n",
    "\n",
    "y_pred = rf_classifier.predict(X_test)\n",
    "\n",
    "# Evaluate the classifier\n",
    "accuracy = rf_classifier.score(X_test, y_test)\n",
    "print(\"Accuracy:\", accuracy)\n"
   ]
  },
  {
   "cell_type": "code",
   "execution_count": 29,
   "metadata": {},
   "outputs": [
    {
     "name": "stdout",
     "output_type": "stream",
     "text": [
      "Classification Report:\n",
      "                                  precision    recall  f1-score   support\n",
      "\n",
      "                           Acne     1.0000    1.0000    1.0000         7\n",
      "                      Arthritis     1.0000    1.0000    1.0000        10\n",
      "               Bronchial Asthma     1.0000    1.0000    1.0000        11\n",
      "           Cervical spondylosis     1.0000    1.0000    1.0000         7\n",
      "                    Chicken pox     0.8462    0.9167    0.8800        12\n",
      "                    Common Cold     1.0000    0.9167    0.9565        12\n",
      "                         Dengue     0.9000    0.7500    0.8182        12\n",
      "          Dimorphic Hemorrhoids     1.0000    1.0000    1.0000         7\n",
      "               Fungal infection     1.0000    1.0000    1.0000        13\n",
      "                   Hypertension     1.0000    1.0000    1.0000        10\n",
      "                       Impetigo     1.0000    1.0000    1.0000        11\n",
      "                       Jaundice     1.0000    1.0000    1.0000        11\n",
      "                        Malaria     1.0000    1.0000    1.0000        11\n",
      "                       Migraine     1.0000    1.0000    1.0000        10\n",
      "                      Pneumonia     1.0000    1.0000    1.0000        11\n",
      "                      Psoriasis     1.0000    0.8333    0.9091         6\n",
      "                        Typhoid     0.8182    1.0000    0.9000         9\n",
      "                 Varicose Veins     1.0000    1.0000    1.0000        12\n",
      "                        allergy     1.0000    1.0000    1.0000        12\n",
      "                       diabetes     1.0000    1.0000    1.0000         8\n",
      "                  drug reaction     1.0000    1.0000    1.0000         5\n",
      "gastroesophageal reflux disease     0.9167    1.0000    0.9565        11\n",
      "           peptic ulcer disease     0.9091    0.9091    0.9091        11\n",
      "        urinary tract infection     1.0000    1.0000    1.0000        11\n",
      "\n",
      "                       accuracy                         0.9708       240\n",
      "                      macro avg     0.9746    0.9719    0.9721       240\n",
      "                   weighted avg     0.9725    0.9708    0.9706       240\n",
      "\n"
     ]
    }
   ],
   "source": [
    "# Calculate precision, recall, and F1-score\n",
    "classification_report = classification_report(y_test, y_pred, digits=4)\n",
    "print(\"Classification Report:\\n\", classification_report)"
   ]
  },
  {
   "cell_type": "code",
   "execution_count": 51,
   "metadata": {},
   "outputs": [],
   "source": [
    "# Export the trained model to a file\n",
    "import pickle\n",
    "model_filename = 'random_forest_model.pkl'\n",
    "with open(model_filename, 'wb') as file:\n",
    "    pickle.dump(rf_classifier, file)\n",
    "\n",
    "# Function to predict disease label from input text\n",
    "def predict_disease(text):\n",
    "    # Load the saved model\n",
    "    with open(model_filename, 'rb') as file:\n",
    "        model = pickle.load(file)\n",
    "    \n",
    "    # Transform the input text into numerical features\n",
    "    input_vector = vectorizer.transform([text])\n",
    "    \n",
    "    # Predict the disease label\n",
    "    predicted_label = model.predict(input_vector)\n",
    "    confidence_scores = model.predict_proba(input_vector)\n",
    "    return predicted_label[0], confidence_scores[0][predicted_label[0]]"
   ]
  },
  {
   "cell_type": "code",
   "execution_count": null,
   "metadata": {},
   "outputs": [],
   "source": [
    "predict_disease(\"I have been experiencing a skin rash on my arms, legs, and torso for the past few weeks. It is red, itchy, and covered in dry, scaly patches.\")"
   ]
  },
  {
   "cell_type": "code",
   "execution_count": null,
   "metadata": {},
   "outputs": [],
   "source": []
  }
 ],
 "metadata": {
  "kernelspec": {
   "display_name": "Python 3",
   "language": "python",
   "name": "python3"
  },
  "language_info": {
   "codemirror_mode": {
    "name": "ipython",
    "version": 3
   },
   "file_extension": ".py",
   "mimetype": "text/x-python",
   "name": "python",
   "nbconvert_exporter": "python",
   "pygments_lexer": "ipython3",
   "version": "3.8.10"
  },
  "orig_nbformat": 4
 },
 "nbformat": 4,
 "nbformat_minor": 2
}
